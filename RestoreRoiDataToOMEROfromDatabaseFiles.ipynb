{
 "cells": [
  {
   "cell_type": "markdown",
   "id": "c29c5565",
   "metadata": {},
   "source": [
    "# Restore ROI data to OMERO from Database files\n",
    "\n",
    "## Laura Cooper, 15/06/2021\n",
    "\n",
    "Read text files generated from database and import recoved ROIs to the associated images. Use for the case where images/ROIs have been accidentally deleted."
   ]
  },
  {
   "cell_type": "markdown",
   "id": "63f1f04c",
   "metadata": {},
   "source": [
    "### Import packages"
   ]
  },
  {
   "cell_type": "code",
   "execution_count": null,
   "id": "168c53ef",
   "metadata": {},
   "outputs": [],
   "source": [
    "import pandas as pd\n",
    "import omero.clients\n",
    "import getpass\n",
    "from omero.gateway import BlitzGateway"
   ]
  },
  {
   "cell_type": "markdown",
   "id": "7d761091",
   "metadata": {},
   "source": [
    "### Read database files"
   ]
  },
  {
   "cell_type": "code",
   "execution_count": null,
   "id": "8f008cb2",
   "metadata": {},
   "outputs": [],
   "source": [
    "def read_dbfile(file):\n",
    "    '''\n",
    "    Read and format database file\n",
    "    Input: file, string\n",
    "    Output: df, dataframe\n",
    "    '''\n",
    "    df =  pd.read_csv(file, sep='|'  , engine='python')\n",
    "    df=df.drop(axis=0,index=0)\n",
    "    df=df.reset_index(drop=True)\n",
    "    df=df.rename(columns=lambda x: x.strip())\n",
    "    return df"
   ]
  },
  {
   "cell_type": "code",
   "execution_count": null,
   "id": "31de6d73",
   "metadata": {},
   "outputs": [],
   "source": [
    "id_filename=read_dbfile('id_filename.txt')\n",
    "id_filename['id']=id_filename['id'].astype(int)\n",
    "roiID_perimage=read_dbfile('roiID_perimage.txt')\n",
    "roiID_perimage['id']=roiID_perimage['id'].astype(int)\n",
    "roiID_perimage['image']=roiID_perimage['image'].astype(int)\n",
    "shapesPerROI=read_dbfile('shapesPerROI.txt')\n",
    "#shapesPerROI['thet']=shapesPerROI['thet'].astype(str).astype(int)\n",
    "shapesPerROI['roi']=shapesPerROI['roi'].astype(int)\n",
    "shapesPerROI['discriminator']=shapesPerROI['discriminator'].str.strip()\n",
    "shapesPerROI['thet']=shapesPerROI['thet'].str.strip()"
   ]
  },
  {
   "cell_type": "markdown",
   "id": "15401b86",
   "metadata": {},
   "source": [
    "### Connect to OMERO and import required tools"
   ]
  },
  {
   "cell_type": "code",
   "execution_count": null,
   "id": "041f1570",
   "metadata": {},
   "outputs": [],
   "source": [
    "USERNAME=input('username: ')\n",
    "PASSWORD=getpass.getpass('password: ')\n",
    "SERVER=input('server: ')\n",
    "conn = BlitzGateway(USERNAME, PASSWORD, host=SERVER, port=4064, secure=True)\n",
    "conn.connect()"
   ]
  },
  {
   "cell_type": "code",
   "execution_count": null,
   "id": "0a72516c",
   "metadata": {},
   "outputs": [],
   "source": [
    "updateService = conn.getUpdateService()\n",
    "from omero.rtypes import rdouble, rint, rstring"
   ]
  },
  {
   "cell_type": "code",
   "execution_count": null,
   "id": "8894bc95",
   "metadata": {},
   "outputs": [],
   "source": [
    "# We have a helper function for creating an ROI and linking it to new shapes\n",
    "def create_roi(img, shapes):\n",
    "    '''\n",
    "    Add ROI to an image in OMERO\n",
    "    Input: img, OMERO image object\n",
    "           shapes, OMERO shape object(s)\n",
    "    '''\n",
    "    # create an ROI, link it to Image\n",
    "    roi = omero.model.RoiI()\n",
    "    # use the omero.model.ImageI that underlies the 'image' wrapper\n",
    "    roi.setImage(img._obj)\n",
    "    for shape in [shapes]:\n",
    "        roi.addShape(shape)\n",
    "    # Save the ROI (saves any linked shapes too)\n",
    "    return updateService.saveAndReturnObject(roi)"
   ]
  },
  {
   "cell_type": "markdown",
   "id": "385e183e",
   "metadata": {},
   "source": [
    "### Get list of images to restore ROIs to"
   ]
  },
  {
   "cell_type": "code",
   "execution_count": null,
   "id": "079d96e5",
   "metadata": {},
   "outputs": [],
   "source": [
    "dataset_id=1000\n",
    "images = conn.getObjects(\"Image\", opts={\"dataset\": dataset_id})\n",
    "#for image in images:\n",
    "    #print(image.getName())\n",
    "    #print(image.getId())"
   ]
  },
  {
   "cell_type": "markdown",
   "id": "fab23e38",
   "metadata": {},
   "source": [
    "### Add the ROIs to the images\n",
    "This loop uses the image name to find the equivalent image ID from the database files and then finds all the ROIs associated to this image. The ROI parameters are read from another database file and are used to create a new shape. This shape is then imported into OMERO to the correct image."
   ]
  },
  {
   "cell_type": "code",
   "execution_count": null,
   "id": "08cd3086",
   "metadata": {},
   "outputs": [],
   "source": [
    "for image in images:\n",
    "    image_name=image.getName()\n",
    "    print(image_name)\n",
    "    New_ID=image.getId()\n",
    "    Old_ID=id_filename[id_filename['name'].str.contains(image_name)]['id'].values[0]\n",
    "    rois=roiID_perimage[roiID_perimage['image'].isin([Old_ID])]['id']\n",
    "    for roi in rois:\n",
    "        shape=shapesPerROI[shapesPerROI['roi'].isin([roi])]\n",
    "        if shape['discriminator'].values=='ellipse':\n",
    "            ellipse = omero.model.EllipseI()\n",
    "            ellipse.x = rdouble(shape['x'].values)\n",
    "            ellipse.y = rdouble(shape['y'].values)\n",
    "            ellipse.radiusX = rdouble(shape['radiusx'].values)\n",
    "            ellipse.radiusY = rdouble(shape['radiusy'].values)\n",
    "            #ellipse.theZ = rint(z)\n",
    "            ellipse.theT = rint(shape['thet'].values)\n",
    "            ellipse.textValue = rstring(shape['textvalue'].values)\n",
    "            img = conn.getObject(\"Image\", New_ID)\n",
    "            create_roi(img, ellipse)\n",
    "            del(ellipse)"
   ]
  },
  {
   "cell_type": "code",
   "execution_count": null,
   "id": "43ab703e",
   "metadata": {},
   "outputs": [],
   "source": [
    "conn.close()"
   ]
  },
  {
   "cell_type": "code",
   "execution_count": null,
   "id": "423bb2e9",
   "metadata": {},
   "outputs": [],
   "source": []
  }
 ],
 "metadata": {
  "kernelspec": {
   "display_name": "Python 3",
   "language": "python",
   "name": "python3"
  },
  "language_info": {
   "codemirror_mode": {
    "name": "ipython",
    "version": 3
   },
   "file_extension": ".py",
   "mimetype": "text/x-python",
   "name": "python",
   "nbconvert_exporter": "python",
   "pygments_lexer": "ipython3",
   "version": "3.9.5"
  }
 },
 "nbformat": 4,
 "nbformat_minor": 5
}
